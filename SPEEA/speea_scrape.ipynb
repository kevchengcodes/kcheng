{
 "cells": [
  {
   "cell_type": "markdown",
   "metadata": {},
   "source": [
    "<h1>Web Scraper</h1>\n",
    "<p>This tool is handy for scraping a website that requires credentials. The credentials have been scrubbed and the downloaded files remain on my local repository for privacy reasons. However, please peruse this code to learn about the neat things you can do with scraping for a particular tag using BeatifulSoup, reading PDF's and tabulating the text into data using PyPDF2 and tabula libraries, and parsing/analyzing/visualizing that tabulated data!</p>"
   ]
  },
  {
   "cell_type": "markdown",
   "metadata": {},
   "source": [
    "<h2>Scrape them..."
   ]
  },
  {
   "cell_type": "code",
   "execution_count": null,
   "metadata": {},
   "outputs": [],
   "source": [
    "# Import libraries\n",
    "import requests\n",
    "import urllib.request\n",
    "import time\n",
    "from bs4 import BeautifulSoup"
   ]
  },
  {
   "cell_type": "code",
   "execution_count": null,
   "metadata": {},
   "outputs": [],
   "source": [
    "# Set the URL you want to webscrape from\n",
    "url = 'https://www.speea.org/Member_Tools/salary_charts/2019/prof_charts.php'\n",
    "\n",
    "# credentials\n",
    "payload = {\"access_login\":\"name@company.com\",\"access_password\":\"password\"}\n",
    "\n",
    "with requests.Session() as session:\n",
    "    post = session.post(url, data=payload)\n",
    "    r = session.get(url)\n",
    "    #print(r.text)   #or whatever else you want to do with the request data!\n",
    "\n",
    "# Parse HTML and save to BeautifulSoup object¶\n",
    "soup = BeautifulSoup(r.text, \"html.parser\")\n",
    "\n",
    "\n",
    "# To download the whole data set, let's do a for loop through all a tags\n",
    "for i in range(63,len(soup.findAll('a'))): #'a' tags are for links\n",
    "    one_a_tag = soup.findAll('a')[i]\n",
    "    link = one_a_tag['href']\n",
    "    download_url = 'https://www.speea.org/Member_Tools/salary_charts/2019/'+ link\n",
    "    urllib.request.urlretrieve(download_url,link[5:-4]+'.pdf') \n",
    "    time.sleep(1) #pause the code for a sec"
   ]
  },
  {
   "cell_type": "markdown",
   "metadata": {},
   "source": [
    "<h2>Time to read them..."
   ]
  },
  {
   "cell_type": "code",
   "execution_count": null,
   "metadata": {},
   "outputs": [],
   "source": [
    "import tabula\n",
    "import PyPDF2\n",
    "import numpy as np\n",
    "import pandas as pd\n",
    "import os"
   ]
  },
  {
   "cell_type": "code",
   "execution_count": null,
   "metadata": {},
   "outputs": [],
   "source": [
    "col_list = ['Title','Levels', 'Head\\rCount', 'Avg\\rAge', 'Avg\\rSvc', 'Avg\\rSalary',\n",
    "       'After Compa-\\rRatio', 'Avg $\\rIncr', 'Avg %\\rIncr', 'Lower\\r10%',\n",
    "       'Median', 'Upper\\r10%', 'Min Mkt', 'Mkt Ref', 'High Mkt', 'Skill Code']\n",
    "L3df = pd.DataFrame(columns=col_list)\n",
    "\n",
    "for filename in os.listdir(os.getcwd()+'\\\\Files'):\n",
    "    df = tabula.read_pdf(os.getcwd()+'\\\\Files'+'\\\\'+filename,pages=1,area=[60,0,100,100],relative_area=True)\n",
    "    df.rename(columns={'Boeing 2019 Salary Ref. Tbl.\\rMinMkt RefHigh Mkt':'Min Mkt','Unnamed: 12':'Mkt Ref','Unnamed: 13':'High Mkt'},inplace=True)\n",
    "    df['Skill Code'] = filename[:-4]\n",
    "    pdf_file = open(os.getcwd()+'\\\\Files'+'\\\\'+filename,'rb')\n",
    "    pdf_read = PyPDF2.PdfFileReader(pdf_file)\n",
    "    page = pdf_read.getPage(0)\n",
    "    parag = page.extractText()\n",
    "    title = [line for line in parag.split('\\n') if \"Salary Distribution by Level for\" in line]\n",
    "    title = title[0][33:]\n",
    "    df['Title'] = title\n",
    "    L3df = L3df.append(df[df['Levels']=='Level 2/B'],sort='False',ignore_index=True)[df.columns.tolist()]\n",
    "    L3df['Skill Code'][L3df.index[-1]] = filename[:-4]\n",
    "    cols = L3df.columns.tolist()\n",
    "    cols = cols[-1:] + cols[:-1]\n",
    "    L3df = L3df[cols]"
   ]
  },
  {
   "cell_type": "code",
   "execution_count": null,
   "metadata": {},
   "outputs": [],
   "source": [
    "pd.set_option('display.max_colwidth', 80)\n",
    "L3df[['Title','Avg\\rAge','Avg\\rSalary','Lower\\r10%','Median','Upper\\r10%']]"
   ]
  },
  {
   "cell_type": "code",
   "execution_count": null,
   "metadata": {},
   "outputs": [],
   "source": [
    "L3df_update = L3df[L3df['Avg\\rAge']!='- - -']\n",
    "\n",
    "pd.options.mode.chained_assignment = None  # default='warn'\n",
    "L3df_update['Avg\\rSalary'] = L3df_update['Avg\\rSalary'].str.replace('$','').str.replace(',','')\n",
    "L3df_update['Lower\\r10%'] = L3df_update['Lower\\r10%'].str.replace('$','').str.replace(',','')\n",
    "\n",
    "L3df_update['Avg\\rSalary'] = L3df_update['Avg\\rSalary'].astype(int)\n",
    "L3df_update['Avg\\rAge'] = L3df_update['Avg\\rAge'].astype(float)\n",
    "L3df_update['Head\\rCount'] = L3df_update['Head\\rCount'].astype(int)\n",
    "L3df_update['Lower\\r10%'] = L3df_update['Lower\\r10%'].astype(int)\n",
    "L3df_update['AgeSal'] = L3df_update['Avg\\rSalary']/L3df_update['Avg\\rAge']"
   ]
  },
  {
   "cell_type": "markdown",
   "metadata": {},
   "source": [
    "<h2>Plot them..."
   ]
  },
  {
   "cell_type": "code",
   "execution_count": null,
   "metadata": {},
   "outputs": [],
   "source": [
    "import matplotlib.pyplot as plt"
   ]
  },
  {
   "cell_type": "markdown",
   "metadata": {},
   "source": [
    "<h4>Set how you want to sort the data, and what Top x skill codes you want to plot</h4>\n",
    "<p>Only need to sort the data each time you switch the criteria. You can change the topx variable whenever you want."
   ]
  },
  {
   "cell_type": "code",
   "execution_count": null,
   "metadata": {},
   "outputs": [],
   "source": [
    "L3df_update = L3df_update.sort_values(by=['Lower\\r10%'],ascending=False)\n",
    "L3df_update = L3df_update.reset_index()"
   ]
  },
  {
   "cell_type": "code",
   "execution_count": null,
   "metadata": {},
   "outputs": [],
   "source": [
    "topx = 20 #top x of sorted by"
   ]
  },
  {
   "cell_type": "markdown",
   "metadata": {},
   "source": [
    "<h4>Use the number variable below to query which skill code you are looking at."
   ]
  },
  {
   "cell_type": "code",
   "execution_count": null,
   "metadata": {},
   "outputs": [],
   "source": [
    "number = 84\n",
    "Skill_Code = L3df_update['Skill Code'][L3df_update['index'] == number].iloc[0]\n",
    "Title_Code = L3df_update['Title'][L3df_update['index'] == number].iloc[0]\n",
    "print('The Skill Code is: '+Skill_Code)\n",
    "print('The title is: '+Title_Code)"
   ]
  },
  {
   "cell_type": "code",
   "execution_count": null,
   "metadata": {},
   "outputs": [],
   "source": [
    "sc = L3df_update['Title'][:topx].tolist()\n",
    "indx = L3df_update['index'][:topx]\n",
    "fig, ax = plt.subplots(figsize=(14,10))\n",
    "x = L3df_update['Avg\\rAge'][:topx]\n",
    "yt = L3df_update['Avg\\rSalary'][:topx]\n",
    "y = yt/x\n",
    "ax.scatter(x,y,s=L3df_update['Head\\rCount'][:topx],c=np.random.randint(0, 20, size=min(topx,len(L3df_update))))\n",
    "#ax.legend(L3df_update['Skill Code'])\n",
    "for i, txt in enumerate(sc):\n",
    "    ax.annotate(txt, (x[i], y[i]))\n"
   ]
  },
  {
   "cell_type": "code",
   "execution_count": null,
   "metadata": {},
   "outputs": [],
   "source": [
    "sc"
   ]
  },
  {
   "cell_type": "code",
   "execution_count": null,
   "metadata": {},
   "outputs": [],
   "source": [
    "l10 = L3df_update['Lower\\r10%'][:topx].astype(int)\n",
    "toplist = pd.DataFrame(list(zip(sc,y,x,yt,l10)),columns=['Title','Salary/Age','Age','Salary','Lower 10%']).sort_values(by=['Lower 10%'],ascending=False)"
   ]
  },
  {
   "cell_type": "code",
   "execution_count": null,
   "metadata": {
    "scrolled": true
   },
   "outputs": [],
   "source": [
    "pd.set_option('display.max_colwidth', 100)\n",
    "pd.set_option('display.max_rows', 500)\n",
    "toplist"
   ]
  },
  {
   "cell_type": "code",
   "execution_count": null,
   "metadata": {},
   "outputs": [],
   "source": [
    "# Make some labels.\n",
    "labels = L3df_update['Avg\\rAge'][:topx]\n",
    "x = np.arange(len(labels))  # the label locations\n",
    "y = L3df_update['Avg\\rSalary'][:topx] #salary\n",
    "fig, ax = plt.subplots(figsize=(14,10))\n",
    "rects = ax.bar(x, y, .5)\n",
    "\n",
    "\n",
    "ax.set_title('Avg Salary vs Skill Code with Avg Age')\n",
    "ax.set_xlabel('Title')\n",
    "ax.set_ylabel('Avg Salary')\n",
    "ax.set_xticks(x)\n",
    "ax.set_xticklabels(L3df_update['Title'][:topx])\n",
    "plt.xticks(rotation=90)\n",
    "plt.ylim(min(y)-1000,max(y)+1000)\n",
    "\n",
    "rects = ax.patches\n",
    "\n",
    "for rect, label in zip(rects, labels):\n",
    "    height = rect.get_height()\n",
    "    ax.text(rect.get_x() + rect.get_width() / 2, height + 5, label,\n",
    "            ha='center', va='bottom')"
   ]
  },
  {
   "cell_type": "code",
   "execution_count": null,
   "metadata": {},
   "outputs": [],
   "source": [
    "L3df_update.columns"
   ]
  },
  {
   "cell_type": "code",
   "execution_count": null,
   "metadata": {},
   "outputs": [],
   "source": []
  }
 ],
 "metadata": {
  "kernelspec": {
   "display_name": "Python 3",
   "language": "python",
   "name": "python3"
  },
  "language_info": {
   "codemirror_mode": {
    "name": "ipython",
    "version": 3
   },
   "file_extension": ".py",
   "mimetype": "text/x-python",
   "name": "python",
   "nbconvert_exporter": "python",
   "pygments_lexer": "ipython3",
   "version": "3.6.3"
  }
 },
 "nbformat": 4,
 "nbformat_minor": 2
}
